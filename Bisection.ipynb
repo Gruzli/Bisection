{
 "cells": [
  {
   "cell_type": "code",
   "execution_count": 1,
   "metadata": {},
   "outputs": [
    {
     "name": "stdout",
     "output_type": "stream",
     "text": [
      "x = 1.4141\n"
     ]
    }
   ],
   "source": [
    "# Bisection Method Rekursive\n",
    "def bisection(f, eps, a, b):\n",
    "  if f(a) * f(b) > 0 :\n",
    "    return \"No root is found on this interval\"\n",
    "  else:\n",
    "    n = (a + b) / 2\n",
    "    if f(a) * f(n) < 0 :\n",
    "      b = n\n",
    "    if f(n) * f(b) < 0 :\n",
    "      a = n\n",
    "    if abs(b - a) <= eps:\n",
    "      return n\n",
    "    else:\n",
    "      return bisection(f, eps, a, b)\n",
    "\n",
    "f = lambda x : (x ** 2) - 2\n",
    "a = 0\n",
    "b = 2\n",
    "eps = 0.01\n",
    "x = bisection(f, eps, a, b)\n",
    "print(\"x = %.4f\"%x)"
   ]
  },
  {
   "cell_type": "code",
   "execution_count": 2,
   "metadata": {},
   "outputs": [
    {
     "name": "stdout",
     "output_type": "stream",
     "text": [
      "1.41424560546875\n",
      "1.41424560546875\n"
     ]
    }
   ],
   "source": [
    "# Bisection Method Looping\n",
    "def bisection2(f, eps, a, b):\n",
    "  if f(a) * f(b) > 0 :\n",
    "    return \"No root between interval\"\n",
    "  else:\n",
    "    err = 99\n",
    "    n = 0\n",
    "    while err > eps:\n",
    "      n = (a + b) / 2\n",
    "      if f(a) * f(n) < 0 :\n",
    "        b = n\n",
    "      elif f(n) * f(b) < 0 : \n",
    "        a = n\n",
    "      err =  abs(b - a)\n",
    "    return n\n",
    "\n",
    "f = lambda x : (x ** 2) - 2\n",
    "a = 0\n",
    "b = 2\n",
    "eps = 1e-4\n",
    "y = bisection(f, eps, a, b)\n",
    "x = bisection2(f, eps, a, b)\n",
    "print(y)\n",
    "print(x)"
   ]
  }
 ],
 "metadata": {
  "kernelspec": {
   "display_name": "Python 3",
   "language": "python",
   "name": "python3"
  },
  "language_info": {
   "codemirror_mode": {
    "name": "ipython",
    "version": 3
   },
   "file_extension": ".py",
   "mimetype": "text/x-python",
   "name": "python",
   "nbconvert_exporter": "python",
   "pygments_lexer": "ipython3",
   "version": "3.11.4"
  }
 },
 "nbformat": 4,
 "nbformat_minor": 2
}
